{
 "cells": [
  {
   "cell_type": "markdown",
   "id": "20306263-5df9-4822-83e3-f974c235ffb9",
   "metadata": {},
   "source": [
    "นางสาวปัทมาภรณ์ สมอเขียว\n",
    "เลขที่22"
   ]
  },
  {
   "cell_type": "markdown",
   "id": "9ef739f4-ab7b-4825-97f0-5fd6de1b6716",
   "metadata": {},
   "source": [
    "print(\"Hello,Worlb\")"
   ]
  },
  {
   "cell_type": "code",
   "execution_count": null,
   "id": "1f055500-ce68-42c2-9c32-36d4a8d3d3cb",
   "metadata": {},
   "outputs": [],
   "source": [
    "pr"
   ]
  }
 ],
 "metadata": {
  "kernelspec": {
   "display_name": "Python 3 (ipykernel)",
   "language": "python",
   "name": "python3"
  },
  "language_info": {
   "codemirror_mode": {
    "name": "ipython",
    "version": 3
   },
   "file_extension": ".py",
   "mimetype": "text/x-python",
   "name": "python",
   "nbconvert_exporter": "python",
   "pygments_lexer": "ipython3",
   "version": "3.13.0"
  }
 },
 "nbformat": 4,
 "nbformat_minor": 5
}
