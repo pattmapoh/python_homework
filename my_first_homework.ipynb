{
 "cells": [
  {
   "cell_type": "markdown",
   "id": "0885dd3d-936c-4a3a-a0c4-eb601c01054a",
   "metadata": {},
   "source": [
    "นางสาวปัทมาภรณ์  สมอเขียว\n",
    "\n",
    "เลขที่6712732122"
   ]
  },
  {
   "cell_type": "markdown",
   "id": "954ec382-ab4e-4a94-ad6f-87b3c1b68446",
   "metadata": {},
   "source": [
    "print( \"hello,world\")"
   ]
  },
  {
   "cell_type": "code",
   "execution_count": null,
   "id": "692229e6-0127-4613-b84c-97f1b0f1d8c4",
   "metadata": {},
   "outputs": [],
   "source": []
  }
 ],
 "metadata": {
  "kernelspec": {
   "display_name": "Python 3 (ipykernel)",
   "language": "python",
   "name": "python3"
  },
  "language_info": {
   "codemirror_mode": {
    "name": "ipython",
    "version": 3
   },
   "file_extension": ".py",
   "mimetype": "text/x-python",
   "name": "python",
   "nbconvert_exporter": "python",
   "pygments_lexer": "ipython3",
   "version": "3.13.0"
  }
 },
 "nbformat": 4,
 "nbformat_minor": 5
}
