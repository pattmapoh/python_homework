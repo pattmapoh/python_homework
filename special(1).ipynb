{
 "cells": [
  {
   "cell_type": "code",
   "execution_count": 1,
   "id": "80e48bee-27ce-4b15-bd78-d0df206943a3",
   "metadata": {},
   "outputs": [
    {
     "name": "stdin",
     "output_type": "stream",
     "text": [
      " 6 13\n"
     ]
    },
    {
     "name": "stdout",
     "output_type": "stream",
     "text": [
      "3\n"
     ]
    }
   ],
   "source": [
    "# รับข้อมูลจำนวน X และ Y\n",
    "X, Y = map(int, input().split())\n",
    "\n",
    "# คำนวณจำนวนครั้งที่เจ้ากบต้องกระโดด\n",
    "# ใช้การคำนวณโดยการบวก X-1 เพื่อทำให้จำนวนครั้งเพิ่มขึ้นเมื่อหารไม่ลงตัว\n",
    "jumps = (Y + X - 1) // X\n",
    "\n",
    "# แสดงผลลัพธ์\n",
    "print(jumps)\n"
   ]
  },
  {
   "cell_type": "code",
   "execution_count": null,
   "id": "2e90dbbc-720c-4bba-ad79-946cdf6f5862",
   "metadata": {},
   "outputs": [],
   "source": [
    "นางสาว ปัทมาภรณ์  สมอเขียวว  6712732122"
   ]
  }
 ],
 "metadata": {
  "kernelspec": {
   "display_name": "Python 3 (ipykernel)",
   "language": "python",
   "name": "python3"
  },
  "language_info": {
   "codemirror_mode": {
    "name": "ipython",
    "version": 3
   },
   "file_extension": ".py",
   "mimetype": "text/x-python",
   "name": "python",
   "nbconvert_exporter": "python",
   "pygments_lexer": "ipython3",
   "version": "3.13.0"
  }
 },
 "nbformat": 4,
 "nbformat_minor": 5
}
